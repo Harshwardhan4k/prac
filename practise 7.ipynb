{
 "cells": [
  {
   "cell_type": "code",
   "execution_count": 4,
   "id": "6a40f4b5",
   "metadata": {},
   "outputs": [],
   "source": [
    "import numpy as np"
   ]
  },
  {
   "cell_type": "code",
   "execution_count": 3,
   "id": "9ef66d03",
   "metadata": {},
   "outputs": [
    {
     "name": "stdout",
     "output_type": "stream",
     "text": [
      "Defaulting to user installation because normal site-packages is not writeable\n",
      "Collecting keras\n",
      "  Downloading keras-2.11.0-py2.py3-none-any.whl (1.7 MB)\n",
      "Collecting tensorflow\n",
      "  Downloading tensorflow-2.11.0-cp39-cp39-win_amd64.whl (1.9 kB)\n",
      "Collecting tensorflow-intel==2.11.0\n",
      "  Downloading tensorflow_intel-2.11.0-cp39-cp39-win_amd64.whl (266.3 MB)\n",
      "Collecting flatbuffers>=2.0\n",
      "  Downloading flatbuffers-22.10.26-py2.py3-none-any.whl (26 kB)\n",
      "Collecting tensorflow-io-gcs-filesystem>=0.23.1\n",
      "  Downloading tensorflow_io_gcs_filesystem-0.27.0-cp39-cp39-win_amd64.whl (1.5 MB)\n",
      "Collecting astunparse>=1.6.0\n",
      "  Using cached astunparse-1.6.3-py2.py3-none-any.whl (12 kB)\n",
      "Collecting termcolor>=1.1.0\n",
      "  Downloading termcolor-2.1.1-py3-none-any.whl (6.2 kB)\n",
      "Requirement already satisfied: h5py>=2.9.0 in c:\\programdata\\anaconda3\\lib\\site-packages (from tensorflow-intel==2.11.0->tensorflow) (3.6.0)\n",
      "Requirement already satisfied: six>=1.12.0 in c:\\programdata\\anaconda3\\lib\\site-packages (from tensorflow-intel==2.11.0->tensorflow) (1.16.0)\n",
      "Collecting gast<=0.4.0,>=0.2.1\n",
      "  Using cached gast-0.4.0-py3-none-any.whl (9.8 kB)\n",
      "Requirement already satisfied: grpcio<2.0,>=1.24.3 in c:\\programdata\\anaconda3\\lib\\site-packages (from tensorflow-intel==2.11.0->tensorflow) (1.42.0)\n",
      "Collecting libclang>=13.0.0\n",
      "  Downloading libclang-14.0.6-py2.py3-none-win_amd64.whl (14.2 MB)\n",
      "Requirement already satisfied: packaging in c:\\programdata\\anaconda3\\lib\\site-packages (from tensorflow-intel==2.11.0->tensorflow) (21.3)\n",
      "Requirement already satisfied: protobuf<3.20,>=3.9.2 in c:\\programdata\\anaconda3\\lib\\site-packages (from tensorflow-intel==2.11.0->tensorflow) (3.19.1)\n",
      "Collecting google-pasta>=0.1.1\n",
      "  Using cached google_pasta-0.2.0-py3-none-any.whl (57 kB)\n",
      "Collecting tensorflow-estimator<2.12,>=2.11.0\n",
      "  Downloading tensorflow_estimator-2.11.0-py2.py3-none-any.whl (439 kB)\n",
      "Requirement already satisfied: typing-extensions>=3.6.6 in c:\\programdata\\anaconda3\\lib\\site-packages (from tensorflow-intel==2.11.0->tensorflow) (4.1.1)\n",
      "Collecting absl-py>=1.0.0\n",
      "  Downloading absl_py-1.3.0-py3-none-any.whl (124 kB)\n",
      "Requirement already satisfied: wrapt>=1.11.0 in c:\\programdata\\anaconda3\\lib\\site-packages (from tensorflow-intel==2.11.0->tensorflow) (1.12.1)\n",
      "Requirement already satisfied: setuptools in c:\\programdata\\anaconda3\\lib\\site-packages (from tensorflow-intel==2.11.0->tensorflow) (61.2.0)\n",
      "Collecting tensorboard<2.12,>=2.11\n",
      "  Downloading tensorboard-2.11.0-py3-none-any.whl (6.0 MB)\n",
      "Collecting opt-einsum>=2.3.2\n",
      "  Using cached opt_einsum-3.3.0-py3-none-any.whl (65 kB)\n",
      "Requirement already satisfied: numpy>=1.20 in c:\\programdata\\anaconda3\\lib\\site-packages (from tensorflow-intel==2.11.0->tensorflow) (1.21.5)\n",
      "Requirement already satisfied: wheel<1.0,>=0.23.0 in c:\\programdata\\anaconda3\\lib\\site-packages (from astunparse>=1.6.0->tensorflow-intel==2.11.0->tensorflow) (0.37.1)\n",
      "Requirement already satisfied: google-auth<3,>=1.6.3 in c:\\programdata\\anaconda3\\lib\\site-packages (from tensorboard<2.12,>=2.11->tensorflow-intel==2.11.0->tensorflow) (1.33.0)\n",
      "Requirement already satisfied: requests<3,>=2.21.0 in c:\\programdata\\anaconda3\\lib\\site-packages (from tensorboard<2.12,>=2.11->tensorflow-intel==2.11.0->tensorflow) (2.27.1)\n",
      "Requirement already satisfied: werkzeug>=1.0.1 in c:\\programdata\\anaconda3\\lib\\site-packages (from tensorboard<2.12,>=2.11->tensorflow-intel==2.11.0->tensorflow) (2.0.3)\n",
      "Requirement already satisfied: markdown>=2.6.8 in c:\\programdata\\anaconda3\\lib\\site-packages (from tensorboard<2.12,>=2.11->tensorflow-intel==2.11.0->tensorflow) (3.3.4)\n",
      "Collecting tensorboard-data-server<0.7.0,>=0.6.0\n",
      "  Using cached tensorboard_data_server-0.6.1-py3-none-any.whl (2.4 kB)\n",
      "Collecting tensorboard-plugin-wit>=1.6.0\n",
      "  Using cached tensorboard_plugin_wit-1.8.1-py3-none-any.whl (781 kB)\n",
      "Collecting google-auth-oauthlib<0.5,>=0.4.1\n",
      "  Using cached google_auth_oauthlib-0.4.6-py2.py3-none-any.whl (18 kB)\n",
      "Requirement already satisfied: pyasn1-modules>=0.2.1 in c:\\programdata\\anaconda3\\lib\\site-packages (from google-auth<3,>=1.6.3->tensorboard<2.12,>=2.11->tensorflow-intel==2.11.0->tensorflow) (0.2.8)\n",
      "Requirement already satisfied: cachetools<5.0,>=2.0.0 in c:\\programdata\\anaconda3\\lib\\site-packages (from google-auth<3,>=1.6.3->tensorboard<2.12,>=2.11->tensorflow-intel==2.11.0->tensorflow) (4.2.2)\n",
      "Requirement already satisfied: rsa<5,>=3.1.4 in c:\\programdata\\anaconda3\\lib\\site-packages (from google-auth<3,>=1.6.3->tensorboard<2.12,>=2.11->tensorflow-intel==2.11.0->tensorflow) (4.7.2)\n",
      "Collecting requests-oauthlib>=0.7.0\n",
      "  Using cached requests_oauthlib-1.3.1-py2.py3-none-any.whl (23 kB)\n",
      "Requirement already satisfied: pyasn1<0.5.0,>=0.4.6 in c:\\programdata\\anaconda3\\lib\\site-packages (from pyasn1-modules>=0.2.1->google-auth<3,>=1.6.3->tensorboard<2.12,>=2.11->tensorflow-intel==2.11.0->tensorflow) (0.4.8)\n",
      "Requirement already satisfied: idna<4,>=2.5 in c:\\programdata\\anaconda3\\lib\\site-packages (from requests<3,>=2.21.0->tensorboard<2.12,>=2.11->tensorflow-intel==2.11.0->tensorflow) (3.3)\n",
      "Requirement already satisfied: certifi>=2017.4.17 in c:\\programdata\\anaconda3\\lib\\site-packages (from requests<3,>=2.21.0->tensorboard<2.12,>=2.11->tensorflow-intel==2.11.0->tensorflow) (2021.10.8)\n",
      "Requirement already satisfied: urllib3<1.27,>=1.21.1 in c:\\programdata\\anaconda3\\lib\\site-packages (from requests<3,>=2.21.0->tensorboard<2.12,>=2.11->tensorflow-intel==2.11.0->tensorflow) (1.26.9)\n",
      "Requirement already satisfied: charset-normalizer~=2.0.0 in c:\\programdata\\anaconda3\\lib\\site-packages (from requests<3,>=2.21.0->tensorboard<2.12,>=2.11->tensorflow-intel==2.11.0->tensorflow) (2.0.4)\n",
      "Collecting oauthlib>=3.0.0\n",
      "  Downloading oauthlib-3.2.2-py3-none-any.whl (151 kB)\n",
      "Requirement already satisfied: pyparsing!=3.0.5,>=2.0.2 in c:\\programdata\\anaconda3\\lib\\site-packages (from packaging->tensorflow-intel==2.11.0->tensorflow) (3.0.4)\n",
      "Installing collected packages: oauthlib, requests-oauthlib, tensorboard-plugin-wit, tensorboard-data-server, google-auth-oauthlib, absl-py, termcolor, tensorflow-io-gcs-filesystem, tensorflow-estimator, tensorboard, opt-einsum, libclang, keras, google-pasta, gast, flatbuffers, astunparse, tensorflow-intel, tensorflow\n",
      "Successfully installed absl-py-1.3.0 astunparse-1.6.3 flatbuffers-22.10.26 gast-0.4.0 google-auth-oauthlib-0.4.6 google-pasta-0.2.0 keras-2.11.0 libclang-14.0.6 oauthlib-3.2.2 opt-einsum-3.3.0 requests-oauthlib-1.3.1 tensorboard-2.11.0 tensorboard-data-server-0.6.1 tensorboard-plugin-wit-1.8.1 tensorflow-2.11.0 tensorflow-estimator-2.11.0 tensorflow-intel-2.11.0 tensorflow-io-gcs-filesystem-0.27.0 termcolor-2.1.1\n"
     ]
    },
    {
     "name": "stderr",
     "output_type": "stream",
     "text": [
      "  WARNING: Retrying (Retry(total=4, connect=None, read=None, redirect=None, status=None)) after connection broken by 'ConnectTimeoutError(<pip._vendor.urllib3.connection.HTTPSConnection object at 0x000001DAE17DAE20>, 'Connection to files.pythonhosted.org timed out. (connect timeout=15)')': /packages/de/44/bf1b0eef5b13e6201aef076ff34b91bc40aace8591cd273c1c2a94a9cc00/keras-2.11.0-py2.py3-none-any.whl\n",
      "  WARNING: The script google-oauthlib-tool.exe is installed in 'C:\\Users\\PRINCE HARSHWARDHAN\\AppData\\Roaming\\Python\\Python39\\Scripts' which is not on PATH.\n",
      "  Consider adding this directory to PATH or, if you prefer to suppress this warning, use --no-warn-script-location.\n",
      "  WARNING: The script tensorboard.exe is installed in 'C:\\Users\\PRINCE HARSHWARDHAN\\AppData\\Roaming\\Python\\Python39\\Scripts' which is not on PATH.\n",
      "  Consider adding this directory to PATH or, if you prefer to suppress this warning, use --no-warn-script-location.\n",
      "  WARNING: The scripts estimator_ckpt_converter.exe, import_pb_to_tensorboard.exe, saved_model_cli.exe, tensorboard.exe, tf_upgrade_v2.exe, tflite_convert.exe, toco.exe and toco_from_protos.exe are installed in 'C:\\Users\\PRINCE HARSHWARDHAN\\AppData\\Roaming\\Python\\Python39\\Scripts' which is not on PATH.\n",
      "  Consider adding this directory to PATH or, if you prefer to suppress this warning, use --no-warn-script-location.\n"
     ]
    }
   ],
   "source": [
    "!pip install keras tensorflow -U "
   ]
  },
  {
   "cell_type": "code",
   "execution_count": 5,
   "id": "17540690",
   "metadata": {},
   "outputs": [],
   "source": [
    "df = np.loadtxt('https://raw.githubusercontent.com/jbrownlee/Datasets/master/pima-indians-diabetes.data.csv',delimiter=',')"
   ]
  },
  {
   "cell_type": "code",
   "execution_count": 7,
   "id": "926b5638",
   "metadata": {},
   "outputs": [
    {
     "data": {
      "text/plain": [
       "array([[  6.   , 148.   ,  72.   , ...,   0.627,  50.   ,   1.   ],\n",
       "       [  1.   ,  85.   ,  66.   , ...,   0.351,  31.   ,   0.   ],\n",
       "       [  8.   , 183.   ,  64.   , ...,   0.672,  32.   ,   1.   ],\n",
       "       ...,\n",
       "       [  5.   , 121.   ,  72.   , ...,   0.245,  30.   ,   0.   ],\n",
       "       [  1.   , 126.   ,  60.   , ...,   0.349,  47.   ,   1.   ],\n",
       "       [  1.   ,  93.   ,  70.   , ...,   0.315,  23.   ,   0.   ]])"
      ]
     },
     "execution_count": 7,
     "metadata": {},
     "output_type": "execute_result"
    }
   ],
   "source": [
    "df"
   ]
  },
  {
   "cell_type": "code",
   "execution_count": 8,
   "id": "fc1d3ae9",
   "metadata": {},
   "outputs": [
    {
     "data": {
      "text/plain": [
       "(768, 9)"
      ]
     },
     "execution_count": 8,
     "metadata": {},
     "output_type": "execute_result"
    }
   ],
   "source": [
    "df.shape"
   ]
  },
  {
   "cell_type": "code",
   "execution_count": 10,
   "id": "14a33f03",
   "metadata": {},
   "outputs": [],
   "source": [
    "#input data\n",
    "x = df[:,:8]\n",
    "\n",
    "#output data\n",
    "y = df[:,8]"
   ]
  },
  {
   "cell_type": "code",
   "execution_count": 11,
   "id": "451e44a8",
   "metadata": {},
   "outputs": [
    {
     "data": {
      "text/plain": [
       "(768, 8)"
      ]
     },
     "execution_count": 11,
     "metadata": {},
     "output_type": "execute_result"
    }
   ],
   "source": [
    "x.shape"
   ]
  },
  {
   "cell_type": "code",
   "execution_count": 12,
   "id": "43ac5a91",
   "metadata": {},
   "outputs": [
    {
     "data": {
      "text/plain": [
       "array([1., 0., 1., 0., 1., 0., 1., 0., 1., 1., 0., 1., 0., 1., 1., 1., 1.,\n",
       "       1., 0., 1., 0., 0., 1., 1., 1., 1., 1., 0., 0., 0., 0., 1., 0., 0.,\n",
       "       0., 0., 0., 1., 1., 1., 0., 0., 0., 1., 0., 1., 0., 0., 1., 0., 0.,\n",
       "       0., 0., 1., 0., 0., 1., 0., 0., 0., 0., 1., 0., 0., 1., 0., 1., 0.,\n",
       "       0., 0., 1., 0., 1., 0., 0., 0., 0., 0., 1., 0., 0., 0., 0., 0., 1.,\n",
       "       0., 0., 0., 1., 0., 0., 0., 0., 1., 0., 0., 0., 0., 0., 1., 1., 0.,\n",
       "       0., 0., 0., 0., 0., 0., 0., 1., 1., 1., 0., 0., 1., 1., 1., 0., 0.,\n",
       "       0., 1., 0., 0., 0., 1., 1., 0., 0., 1., 1., 1., 1., 1., 0., 0., 0.,\n",
       "       0., 0., 0., 0., 0., 0., 0., 1., 0., 0., 0., 0., 0., 0., 0., 0., 1.,\n",
       "       0., 1., 1., 0., 0., 0., 1., 0., 0., 0., 0., 1., 1., 0., 0., 0., 0.,\n",
       "       1., 1., 0., 0., 0., 1., 0., 1., 0., 1., 0., 0., 0., 0., 0., 1., 1.,\n",
       "       1., 1., 1., 0., 0., 1., 1., 0., 1., 0., 1., 1., 1., 0., 0., 0., 0.,\n",
       "       0., 0., 1., 1., 0., 1., 0., 0., 0., 1., 1., 1., 1., 0., 1., 1., 1.,\n",
       "       1., 0., 0., 0., 0., 0., 1., 0., 0., 1., 1., 0., 0., 0., 1., 1., 1.,\n",
       "       1., 0., 0., 0., 1., 1., 0., 1., 0., 0., 0., 0., 0., 0., 0., 0., 1.,\n",
       "       1., 0., 0., 0., 1., 0., 1., 0., 0., 1., 0., 1., 0., 0., 1., 1., 0.,\n",
       "       0., 0., 0., 0., 1., 0., 0., 0., 1., 0., 0., 1., 1., 0., 0., 1., 0.,\n",
       "       0., 0., 1., 1., 1., 0., 0., 1., 0., 1., 0., 1., 1., 0., 1., 0., 0.,\n",
       "       1., 0., 1., 1., 0., 0., 1., 0., 1., 0., 0., 1., 0., 1., 0., 1., 1.,\n",
       "       1., 0., 0., 1., 0., 1., 0., 0., 0., 1., 0., 0., 0., 0., 1., 1., 1.,\n",
       "       0., 0., 0., 0., 0., 0., 0., 0., 0., 1., 0., 0., 0., 0., 0., 1., 1.,\n",
       "       1., 0., 1., 1., 0., 0., 1., 0., 0., 1., 0., 0., 1., 1., 0., 0., 0.,\n",
       "       0., 1., 0., 0., 1., 0., 0., 0., 0., 0., 0., 0., 1., 1., 1., 0., 0.,\n",
       "       1., 0., 0., 1., 0., 0., 1., 0., 1., 1., 0., 1., 0., 1., 0., 1., 0.,\n",
       "       1., 1., 0., 0., 0., 0., 1., 1., 0., 1., 0., 1., 0., 0., 0., 0., 1.,\n",
       "       1., 0., 1., 0., 1., 0., 0., 0., 0., 0., 1., 0., 0., 0., 0., 1., 0.,\n",
       "       0., 1., 1., 1., 0., 0., 1., 0., 0., 1., 0., 0., 0., 1., 0., 0., 1.,\n",
       "       0., 0., 0., 0., 0., 0., 0., 0., 0., 1., 0., 0., 0., 0., 0., 0., 0.,\n",
       "       1., 0., 0., 0., 1., 0., 0., 0., 1., 1., 0., 0., 0., 0., 0., 0., 0.,\n",
       "       1., 0., 0., 0., 0., 1., 0., 0., 0., 1., 0., 0., 0., 1., 0., 0., 0.,\n",
       "       1., 0., 0., 0., 0., 1., 1., 0., 0., 0., 0., 0., 0., 1., 0., 0., 0.,\n",
       "       0., 0., 0., 0., 0., 0., 0., 0., 1., 0., 0., 0., 1., 1., 1., 1., 0.,\n",
       "       0., 1., 1., 0., 0., 0., 0., 0., 0., 0., 0., 0., 0., 0., 0., 0., 1.,\n",
       "       1., 0., 0., 0., 0., 0., 0., 0., 1., 0., 0., 0., 0., 0., 0., 0., 1.,\n",
       "       0., 1., 1., 0., 0., 0., 1., 0., 1., 0., 1., 0., 1., 0., 1., 0., 0.,\n",
       "       1., 0., 0., 1., 0., 0., 0., 0., 1., 1., 0., 1., 0., 0., 0., 0., 1.,\n",
       "       1., 0., 1., 0., 0., 0., 1., 1., 0., 0., 0., 0., 0., 0., 0., 0., 0.,\n",
       "       0., 1., 0., 0., 0., 0., 1., 0., 0., 1., 0., 0., 0., 1., 0., 0., 0.,\n",
       "       1., 1., 1., 0., 0., 0., 0., 0., 0., 1., 0., 0., 0., 1., 0., 1., 1.,\n",
       "       1., 1., 0., 1., 1., 0., 0., 0., 0., 0., 0., 0., 1., 1., 0., 1., 0.,\n",
       "       0., 1., 0., 1., 0., 0., 0., 0., 0., 1., 0., 1., 0., 1., 0., 1., 1.,\n",
       "       0., 0., 0., 0., 1., 1., 0., 0., 0., 1., 0., 1., 1., 0., 0., 1., 0.,\n",
       "       0., 1., 1., 0., 0., 1., 0., 0., 1., 0., 0., 0., 0., 0., 0., 0., 1.,\n",
       "       1., 1., 0., 0., 0., 0., 0., 0., 1., 1., 0., 0., 1., 0., 0., 1., 0.,\n",
       "       1., 1., 1., 0., 0., 1., 1., 1., 0., 1., 0., 1., 0., 1., 0., 0., 0.,\n",
       "       0., 1., 0.])"
      ]
     },
     "execution_count": 12,
     "metadata": {},
     "output_type": "execute_result"
    }
   ],
   "source": [
    "y"
   ]
  },
  {
   "cell_type": "code",
   "execution_count": 15,
   "id": "4db47b41",
   "metadata": {},
   "outputs": [
    {
     "data": {
      "text/plain": [
       "Counter({1.0: 268, 0.0: 500})"
      ]
     },
     "execution_count": 15,
     "metadata": {},
     "output_type": "execute_result"
    }
   ],
   "source": [
    "from collections import Counter\n",
    "Counter(y)"
   ]
  },
  {
   "cell_type": "code",
   "execution_count": 20,
   "id": "77630092",
   "metadata": {},
   "outputs": [],
   "source": [
    "from tensorflow.keras.models import Sequential\n",
    "from tensorflow.keras.layers import Dense\n"
   ]
  },
  {
   "cell_type": "code",
   "execution_count": 22,
   "id": "64d2beda",
   "metadata": {},
   "outputs": [],
   "source": [
    "#model Creation\n",
    "\n",
    "model = Sequential()\n",
    "# input layer\n",
    "model.add(Dense(12,input_dim=8,activation='relu'))\n",
    "\n",
    "#hidden layer\n",
    "model.add(Dense(8,activation='relu'))\n",
    "model.add(Dense(8,activation='relu'))\n",
    "\n",
    "#output layer\n",
    "model.add(Dense(1,activation='sigmoid'))"
   ]
  },
  {
   "cell_type": "code",
   "execution_count": 28,
   "id": "b96e14e0",
   "metadata": {},
   "outputs": [],
   "source": [
    "#compile the model\n",
    "model.compile(loss='binary_crossentropy',optimizer='adam',metrics=['accuracy'])"
   ]
  },
  {
   "cell_type": "code",
   "execution_count": 29,
   "id": "ed6f9432",
   "metadata": {},
   "outputs": [
    {
     "name": "stdout",
     "output_type": "stream",
     "text": [
      "Epoch 1/100\n",
      "77/77 [==============================] - 1s 1ms/step - loss: 1.4371 - accuracy: 0.6146\n",
      "Epoch 2/100\n",
      "77/77 [==============================] - 0s 1ms/step - loss: 0.8172 - accuracy: 0.5911\n",
      "Epoch 3/100\n",
      "77/77 [==============================] - 0s 1ms/step - loss: 0.7172 - accuracy: 0.6250\n",
      "Epoch 4/100\n",
      "77/77 [==============================] - 0s 2ms/step - loss: 0.6915 - accuracy: 0.6497\n",
      "Epoch 5/100\n",
      "77/77 [==============================] - 0s 1ms/step - loss: 0.6708 - accuracy: 0.6732\n",
      "Epoch 6/100\n",
      "77/77 [==============================] - 0s 2ms/step - loss: 0.6536 - accuracy: 0.6693\n",
      "Epoch 7/100\n",
      "77/77 [==============================] - 0s 1ms/step - loss: 0.6430 - accuracy: 0.6680\n",
      "Epoch 8/100\n",
      "77/77 [==============================] - 0s 1ms/step - loss: 0.6331 - accuracy: 0.6823\n",
      "Epoch 9/100\n",
      "77/77 [==============================] - 0s 1ms/step - loss: 0.6233 - accuracy: 0.6914\n",
      "Epoch 10/100\n",
      "77/77 [==============================] - 0s 1ms/step - loss: 0.6196 - accuracy: 0.6914\n",
      "Epoch 11/100\n",
      "77/77 [==============================] - 0s 1ms/step - loss: 0.6104 - accuracy: 0.7044\n",
      "Epoch 12/100\n",
      "77/77 [==============================] - 0s 1ms/step - loss: 0.6043 - accuracy: 0.6992\n",
      "Epoch 13/100\n",
      "77/77 [==============================] - 0s 1ms/step - loss: 0.5988 - accuracy: 0.7135\n",
      "Epoch 14/100\n",
      "77/77 [==============================] - 0s 932us/step - loss: 0.5937 - accuracy: 0.7096\n",
      "Epoch 15/100\n",
      "77/77 [==============================] - 0s 1ms/step - loss: 0.5895 - accuracy: 0.7161\n",
      "Epoch 16/100\n",
      "77/77 [==============================] - 0s 998us/step - loss: 0.5860 - accuracy: 0.7161\n",
      "Epoch 17/100\n",
      "77/77 [==============================] - 0s 914us/step - loss: 0.5796 - accuracy: 0.7253\n",
      "Epoch 18/100\n",
      "77/77 [==============================] - 0s 886us/step - loss: 0.5735 - accuracy: 0.7279\n",
      "Epoch 19/100\n",
      "77/77 [==============================] - 0s 977us/step - loss: 0.5740 - accuracy: 0.7148\n",
      "Epoch 20/100\n",
      "77/77 [==============================] - 0s 1ms/step - loss: 0.5718 - accuracy: 0.7266\n",
      "Epoch 21/100\n",
      "77/77 [==============================] - 0s 921us/step - loss: 0.5668 - accuracy: 0.7214\n",
      "Epoch 22/100\n",
      "77/77 [==============================] - 0s 983us/step - loss: 0.5660 - accuracy: 0.7292\n",
      "Epoch 23/100\n",
      "77/77 [==============================] - 0s 1ms/step - loss: 0.5679 - accuracy: 0.7292\n",
      "Epoch 24/100\n",
      "77/77 [==============================] - 0s 1ms/step - loss: 0.5595 - accuracy: 0.7227\n",
      "Epoch 25/100\n",
      "77/77 [==============================] - 0s 2ms/step - loss: 0.5556 - accuracy: 0.7253\n",
      "Epoch 26/100\n",
      "77/77 [==============================] - 0s 1ms/step - loss: 0.5512 - accuracy: 0.7344\n",
      "Epoch 27/100\n",
      "77/77 [==============================] - 0s 915us/step - loss: 0.5542 - accuracy: 0.7227\n",
      "Epoch 28/100\n",
      "77/77 [==============================] - 0s 938us/step - loss: 0.5485 - accuracy: 0.7305\n",
      "Epoch 29/100\n",
      "77/77 [==============================] - 0s 970us/step - loss: 0.5506 - accuracy: 0.7370\n",
      "Epoch 30/100\n",
      "77/77 [==============================] - 0s 1ms/step - loss: 0.5484 - accuracy: 0.7383\n",
      "Epoch 31/100\n",
      "77/77 [==============================] - 0s 1ms/step - loss: 0.5485 - accuracy: 0.7357\n",
      "Epoch 32/100\n",
      "77/77 [==============================] - 0s 1ms/step - loss: 0.5499 - accuracy: 0.7331\n",
      "Epoch 33/100\n",
      "77/77 [==============================] - 0s 1ms/step - loss: 0.5452 - accuracy: 0.7188\n",
      "Epoch 34/100\n",
      "77/77 [==============================] - 0s 1ms/step - loss: 0.5396 - accuracy: 0.7435\n",
      "Epoch 35/100\n",
      "77/77 [==============================] - 0s 1ms/step - loss: 0.5434 - accuracy: 0.7357\n",
      "Epoch 36/100\n",
      "77/77 [==============================] - 0s 1ms/step - loss: 0.5404 - accuracy: 0.7344\n",
      "Epoch 37/100\n",
      "77/77 [==============================] - 0s 930us/step - loss: 0.5414 - accuracy: 0.7305\n",
      "Epoch 38/100\n",
      "77/77 [==============================] - 0s 937us/step - loss: 0.5428 - accuracy: 0.7240\n",
      "Epoch 39/100\n",
      "77/77 [==============================] - 0s 908us/step - loss: 0.5407 - accuracy: 0.7331\n",
      "Epoch 40/100\n",
      "77/77 [==============================] - 0s 874us/step - loss: 0.5416 - accuracy: 0.7357\n",
      "Epoch 41/100\n",
      "77/77 [==============================] - 0s 937us/step - loss: 0.5391 - accuracy: 0.7396\n",
      "Epoch 42/100\n",
      "77/77 [==============================] - 0s 885us/step - loss: 0.5383 - accuracy: 0.7318\n",
      "Epoch 43/100\n",
      "77/77 [==============================] - 0s 874us/step - loss: 0.5323 - accuracy: 0.7344\n",
      "Epoch 44/100\n",
      "77/77 [==============================] - 0s 881us/step - loss: 0.5373 - accuracy: 0.7292\n",
      "Epoch 45/100\n",
      "77/77 [==============================] - 0s 917us/step - loss: 0.5341 - accuracy: 0.7370\n",
      "Epoch 46/100\n",
      "77/77 [==============================] - 0s 882us/step - loss: 0.5381 - accuracy: 0.7370\n",
      "Epoch 47/100\n",
      "77/77 [==============================] - 0s 898us/step - loss: 0.5315 - accuracy: 0.7487\n",
      "Epoch 48/100\n",
      "77/77 [==============================] - 0s 1ms/step - loss: 0.5305 - accuracy: 0.7409\n",
      "Epoch 49/100\n",
      "77/77 [==============================] - 0s 934us/step - loss: 0.5304 - accuracy: 0.7370\n",
      "Epoch 50/100\n",
      "77/77 [==============================] - 0s 947us/step - loss: 0.5377 - accuracy: 0.7318\n",
      "Epoch 51/100\n",
      "77/77 [==============================] - 0s 921us/step - loss: 0.5281 - accuracy: 0.7513\n",
      "Epoch 52/100\n",
      "77/77 [==============================] - 0s 942us/step - loss: 0.5367 - accuracy: 0.7305\n",
      "Epoch 53/100\n",
      "77/77 [==============================] - 0s 909us/step - loss: 0.5287 - accuracy: 0.7422\n",
      "Epoch 54/100\n",
      "77/77 [==============================] - 0s 884us/step - loss: 0.5274 - accuracy: 0.7370\n",
      "Epoch 55/100\n",
      "77/77 [==============================] - 0s 938us/step - loss: 0.5301 - accuracy: 0.7266\n",
      "Epoch 56/100\n",
      "77/77 [==============================] - 0s 917us/step - loss: 0.5266 - accuracy: 0.7435\n",
      "Epoch 57/100\n",
      "77/77 [==============================] - 0s 954us/step - loss: 0.5247 - accuracy: 0.7448\n",
      "Epoch 58/100\n",
      "77/77 [==============================] - 0s 925us/step - loss: 0.5278 - accuracy: 0.7422\n",
      "Epoch 59/100\n",
      "77/77 [==============================] - 0s 945us/step - loss: 0.5259 - accuracy: 0.7396\n",
      "Epoch 60/100\n",
      "77/77 [==============================] - 0s 905us/step - loss: 0.5319 - accuracy: 0.7383\n",
      "Epoch 61/100\n",
      "77/77 [==============================] - 0s 929us/step - loss: 0.5229 - accuracy: 0.7461\n",
      "Epoch 62/100\n",
      "77/77 [==============================] - 0s 946us/step - loss: 0.5309 - accuracy: 0.7331\n",
      "Epoch 63/100\n",
      "77/77 [==============================] - 0s 909us/step - loss: 0.5251 - accuracy: 0.7435\n",
      "Epoch 64/100\n",
      "77/77 [==============================] - 0s 1ms/step - loss: 0.5186 - accuracy: 0.7461\n",
      "Epoch 65/100\n",
      "77/77 [==============================] - 0s 909us/step - loss: 0.5254 - accuracy: 0.7422\n",
      "Epoch 66/100\n",
      "77/77 [==============================] - 0s 924us/step - loss: 0.5201 - accuracy: 0.7526\n",
      "Epoch 67/100\n",
      "77/77 [==============================] - 0s 875us/step - loss: 0.5222 - accuracy: 0.7383\n",
      "Epoch 68/100\n",
      "77/77 [==============================] - 0s 874us/step - loss: 0.5217 - accuracy: 0.7396\n",
      "Epoch 69/100\n",
      "77/77 [==============================] - 0s 885us/step - loss: 0.5153 - accuracy: 0.7474\n",
      "Epoch 70/100\n",
      "77/77 [==============================] - 0s 888us/step - loss: 0.5165 - accuracy: 0.7370\n",
      "Epoch 71/100\n",
      "77/77 [==============================] - 0s 897us/step - loss: 0.5141 - accuracy: 0.7474\n",
      "Epoch 72/100\n",
      "77/77 [==============================] - 0s 884us/step - loss: 0.5133 - accuracy: 0.7513\n",
      "Epoch 73/100\n",
      "77/77 [==============================] - 0s 896us/step - loss: 0.5115 - accuracy: 0.7435\n",
      "Epoch 74/100\n",
      "77/77 [==============================] - 0s 936us/step - loss: 0.5139 - accuracy: 0.7474\n",
      "Epoch 75/100\n",
      "77/77 [==============================] - 0s 882us/step - loss: 0.5152 - accuracy: 0.7396\n",
      "Epoch 76/100\n",
      "77/77 [==============================] - 0s 914us/step - loss: 0.5075 - accuracy: 0.7396\n",
      "Epoch 77/100\n",
      "77/77 [==============================] - 0s 906us/step - loss: 0.5099 - accuracy: 0.7357\n",
      "Epoch 78/100\n",
      "77/77 [==============================] - 0s 1ms/step - loss: 0.5099 - accuracy: 0.7331\n",
      "Epoch 79/100\n",
      "77/77 [==============================] - 0s 925us/step - loss: 0.5088 - accuracy: 0.7383\n",
      "Epoch 80/100\n",
      "77/77 [==============================] - 0s 914us/step - loss: 0.5031 - accuracy: 0.7487\n",
      "Epoch 81/100\n",
      "77/77 [==============================] - 0s 911us/step - loss: 0.5058 - accuracy: 0.7500\n"
     ]
    },
    {
     "name": "stdout",
     "output_type": "stream",
     "text": [
      "Epoch 82/100\n",
      "77/77 [==============================] - 0s 925us/step - loss: 0.5089 - accuracy: 0.7409\n",
      "Epoch 83/100\n",
      "77/77 [==============================] - 0s 962us/step - loss: 0.5074 - accuracy: 0.7448\n",
      "Epoch 84/100\n",
      "77/77 [==============================] - 0s 977us/step - loss: 0.5020 - accuracy: 0.7578\n",
      "Epoch 85/100\n",
      "77/77 [==============================] - 0s 971us/step - loss: 0.5046 - accuracy: 0.7552\n",
      "Epoch 86/100\n",
      "77/77 [==============================] - 0s 971us/step - loss: 0.5065 - accuracy: 0.7461\n",
      "Epoch 87/100\n",
      "77/77 [==============================] - 0s 945us/step - loss: 0.5055 - accuracy: 0.7539\n",
      "Epoch 88/100\n",
      "77/77 [==============================] - 0s 1ms/step - loss: 0.5026 - accuracy: 0.7552\n",
      "Epoch 89/100\n",
      "77/77 [==============================] - 0s 936us/step - loss: 0.5033 - accuracy: 0.7526\n",
      "Epoch 90/100\n",
      "77/77 [==============================] - 0s 965us/step - loss: 0.5070 - accuracy: 0.7578\n",
      "Epoch 91/100\n",
      "77/77 [==============================] - 0s 963us/step - loss: 0.5020 - accuracy: 0.7604\n",
      "Epoch 92/100\n",
      "77/77 [==============================] - 0s 895us/step - loss: 0.4943 - accuracy: 0.7721\n",
      "Epoch 93/100\n",
      "77/77 [==============================] - 0s 967us/step - loss: 0.5002 - accuracy: 0.7617\n",
      "Epoch 94/100\n",
      "77/77 [==============================] - 0s 942us/step - loss: 0.5032 - accuracy: 0.7630\n",
      "Epoch 95/100\n",
      "77/77 [==============================] - 0s 931us/step - loss: 0.4961 - accuracy: 0.7578\n",
      "Epoch 96/100\n",
      "77/77 [==============================] - 0s 947us/step - loss: 0.4956 - accuracy: 0.7760\n",
      "Epoch 97/100\n",
      "77/77 [==============================] - 0s 896us/step - loss: 0.4916 - accuracy: 0.7604\n",
      "Epoch 98/100\n",
      "77/77 [==============================] - 0s 920us/step - loss: 0.4934 - accuracy: 0.7578\n",
      "Epoch 99/100\n",
      "77/77 [==============================] - 0s 899us/step - loss: 0.4847 - accuracy: 0.7708\n",
      "Epoch 100/100\n",
      "77/77 [==============================] - 0s 901us/step - loss: 0.4863 - accuracy: 0.7630\n"
     ]
    },
    {
     "data": {
      "text/plain": [
       "<keras.callbacks.History at 0x11ce07b4ee0>"
      ]
     },
     "execution_count": 29,
     "metadata": {},
     "output_type": "execute_result"
    }
   ],
   "source": [
    "#train the model\n",
    "model.fit(x,y,epochs=100,batch_size=10)"
   ]
  },
  {
   "cell_type": "code",
   "execution_count": 30,
   "id": "9020c812",
   "metadata": {},
   "outputs": [
    {
     "name": "stdout",
     "output_type": "stream",
     "text": [
      "24/24 [==============================] - 0s 824us/step - loss: 0.4735 - accuracy: 0.7734\n"
     ]
    },
    {
     "data": {
      "text/plain": [
       "[0.4735085964202881, 0.7734375]"
      ]
     },
     "execution_count": 30,
     "metadata": {},
     "output_type": "execute_result"
    }
   ],
   "source": [
    "#evalutate the model\n",
    "model.evaluate(x,y)"
   ]
  },
  {
   "cell_type": "code",
   "execution_count": 36,
   "id": "87565641",
   "metadata": {},
   "outputs": [
    {
     "name": "stdout",
     "output_type": "stream",
     "text": [
      "Model: \"sequential_1\"\n",
      "_________________________________________________________________\n",
      " Layer (type)                Output Shape              Param #   \n",
      "=================================================================\n",
      " dense_4 (Dense)             (None, 12)                108       \n",
      "                                                                 \n",
      " dense_5 (Dense)             (None, 8)                 104       \n",
      "                                                                 \n",
      " dense_6 (Dense)             (None, 8)                 72        \n",
      "                                                                 \n",
      " dense_7 (Dense)             (None, 1)                 9         \n",
      "                                                                 \n",
      "=================================================================\n",
      "Total params: 293\n",
      "Trainable params: 293\n",
      "Non-trainable params: 0\n",
      "_________________________________________________________________\n"
     ]
    }
   ],
   "source": [
    "model.summary()"
   ]
  },
  {
   "cell_type": "code",
   "execution_count": 39,
   "id": "b2e589e4",
   "metadata": {},
   "outputs": [
    {
     "ename": "ModuleNotFoundError",
     "evalue": "No module named 'ann_visualizer'",
     "output_type": "error",
     "traceback": [
      "\u001b[1;31m---------------------------------------------------------------------------\u001b[0m",
      "\u001b[1;31mModuleNotFoundError\u001b[0m                       Traceback (most recent call last)",
      "Input \u001b[1;32mIn [39]\u001b[0m, in \u001b[0;36m<cell line: 1>\u001b[1;34m()\u001b[0m\n\u001b[1;32m----> 1\u001b[0m \u001b[38;5;28;01mfrom\u001b[39;00m \u001b[38;5;21;01mann_visualizer\u001b[39;00m\u001b[38;5;21;01m.\u001b[39;00m\u001b[38;5;21;01mvisualize\u001b[39;00m \u001b[38;5;28;01mimport\u001b[39;00m ann_viz\n",
      "\u001b[1;31mModuleNotFoundError\u001b[0m: No module named 'ann_visualizer'"
     ]
    }
   ],
   "source": [
    "from ann_visualizer.visualize import ann_viz; "
   ]
  },
  {
   "cell_type": "code",
   "execution_count": null,
   "id": "733ef8f0",
   "metadata": {},
   "outputs": [],
   "source": []
  },
  {
   "cell_type": "code",
   "execution_count": null,
   "id": "a18c66ac",
   "metadata": {},
   "outputs": [],
   "source": []
  }
 ],
 "metadata": {
  "kernelspec": {
   "display_name": "Python 3 (ipykernel)",
   "language": "python",
   "name": "python3"
  },
  "language_info": {
   "codemirror_mode": {
    "name": "ipython",
    "version": 3
   },
   "file_extension": ".py",
   "mimetype": "text/x-python",
   "name": "python",
   "nbconvert_exporter": "python",
   "pygments_lexer": "ipython3",
   "version": "3.9.12"
  }
 },
 "nbformat": 4,
 "nbformat_minor": 5
}
